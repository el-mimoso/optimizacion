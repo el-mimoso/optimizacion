{
 "cells": [
  {
   "cell_type": "code",
   "execution_count": 22,
   "metadata": {},
   "outputs": [],
   "source": [
    "# Bibliotecas\n",
    "import numpy as np\n",
    "import math\n"
   ]
  },
  {
   "cell_type": "code",
   "execution_count": 23,
   "metadata": {},
   "outputs": [],
   "source": [
    "def f(x):\n",
    "    \"\"\"Funición a evaluar\"\"\"\n",
    "    a = (np.e**(-x[0]**2 - x[1]**2))*x[0]\n",
    "    return a\n",
    "\n",
    "\n",
    "def grad(x):\n",
    "    \"\"\" Retorna gradiente f\"\"\"\n",
    "    list1 = [1-2*x[0]**2, -2*x[0]*x[1]]\n",
    "    return np.array(list1)*math.e**(-x[0]**2 - x[1]**2)\n",
    "\n",
    "\n",
    "def hessiano(x):\n",
    "    \"\"\"Evalua la matriz Hessiana, ingresar derivadas\"\"\"\n",
    "    axax = (2*x[0]*((2*x[0]**2)-3))*math.e**(-(x[0]**2) - (x[1]**2))\n",
    "    ayay = (2*x[0]*((2*x[1]**2) - 1))*math.e**(-(x[0]**2) - (x[1]**2))\n",
    "    axay = 2*(2*x[0]**2 - 1)*x[1]*math.e**(-x[0]**2 - x[1]**2)\n",
    "    # return axay\n",
    "    return np.array([\n",
    "        [axax, axay],\n",
    "        [axay, ayay]\n",
    "    ])\n",
    "\n",
    "\n",
    "def dirgrad(x):\n",
    "    \"\"\"Retorna la dirección del gradiente p\"\"\"\n",
    "    vgrad = grad(x[0], x[1])\n",
    "    magGrad = np.sqrt(vgrad.dot(vgrad))\n",
    "    p = -vgrad/magGrad\n",
    "    return p\n"
   ]
  },
  {
   "cell_type": "code",
   "execution_count": 38,
   "metadata": {},
   "outputs": [],
   "source": [
    "def levenbergMarquardt(x0, tol = 1e-6):\n",
    "    k = 0\n",
    "    mu = 1e-3\n",
    "    v = 10\n",
    "    n = np.shape(hessiano(x0))\n",
    "    I = np.identity(n[0])\n",
    "    while np.linalg.norm(grad(x0)) >= tol :\n",
    "        mu = mu/v\n",
    "        while True:\n",
    "            delta = np.dot(np.linalg.inv(hessiano(x0) + mu*I), grad(x0))\n",
    "            x1 = x0 - delta\n",
    "            mu = mu * v\n",
    "            print(k, x1, x0, mu)\n",
    "            if (f(x1) < f(x0)):\n",
    "                x0 = x1 \n",
    "                break\n",
    "        k = k+1\n",
    "    return x0\n"
   ]
  },
  {
   "cell_type": "code",
   "execution_count": 39,
   "metadata": {},
   "outputs": [
    {
     "name": "stdout",
     "output_type": "stream",
     "text": [
      "0 [-0.9998352  0.9993408] [-0.5 -0.5] 0.001\n",
      "0 [-0.99835805  0.99343353] [-0.5 -0.5] 0.01\n",
      "0 [-0.98416443  0.9367872 ] [-0.5 -0.5] 0.1\n",
      "0 [-0.88272859  0.53984551] [-0.5 -0.5] 1.0\n",
      "0 [-0.65285001 -0.23173579] [-0.5 -0.5] 10.0\n",
      "1 [-0.68793428 -0.12208705] [-0.65285001 -0.23173579] 10.0\n",
      "2 [-0.70010892 -0.06536462] [-0.68793428 -0.12208705] 10.0\n",
      "3 [-0.70453478 -0.03513281] [-0.70010892 -0.06536462] 10.0\n",
      "4 [-0.70615998 -0.01890348] [-0.70453478 -0.03513281] 10.0\n",
      "5 [-0.70675813 -0.01017418] [-0.70615998 -0.01890348] 10.0\n",
      "6 [-0.70697839 -0.00547639] [-0.70675813 -0.01017418] 10.0\n",
      "7 [-0.7070595  -0.00294781] [-0.70697839 -0.00547639] 10.0\n",
      "8 [-0.70708937 -0.00158675] [-0.7070595  -0.00294781] 10.0\n",
      "9 [-0.70710037 -0.00085412] [-0.70708937 -0.00158675] 10.0\n",
      "10 [-7.07104420e-01 -4.59754498e-04] [-0.70710037 -0.00085412] 10.0\n",
      "11 [-7.07105912e-01 -2.47477340e-04] [-7.07104420e-01 -4.59754498e-04] 10.0\n",
      "12 [-7.07106461e-01 -1.33212481e-04] [-7.07105912e-01 -2.47477340e-04] 10.0\n",
      "13 [-7.07106663e-01 -7.17058184e-05] [-7.07106461e-01 -1.33212481e-04] 10.0\n",
      "14 [-7.07106738e-01 -3.85979181e-05] [-7.07106663e-01 -7.17058184e-05] 10.0\n",
      "15 [-7.07106765e-01 -2.07765467e-05] [-7.07106738e-01 -3.85979181e-05] 10.0\n",
      "16 [-7.07106775e-01 -1.11836315e-05] [-7.07106765e-01 -2.07765467e-05] 10.0\n",
      "17 [-7.07106779e-01 -6.01994235e-06] [-7.07106775e-01 -1.11836315e-05] 10.0\n",
      "18 [-7.07106780e-01 -3.24042382e-06] [-7.07106779e-01 -6.01994235e-06] 10.0\n",
      "19 [-7.07106781e-01 -1.74426032e-06] [-7.07106780e-01 -3.24042382e-06] 10.0\n",
      "20 [-7.07106781e-01 -9.38903125e-07] [-7.07106781e-01 -1.74426032e-06] 10.0\n"
     ]
    },
    {
     "data": {
      "text/plain": [
       "array([-7.07106781e-01, -9.38903125e-07])"
      ]
     },
     "execution_count": 39,
     "metadata": {},
     "output_type": "execute_result"
    }
   ],
   "source": [
    "x0 = np.array([-0.5, -0.5])\n",
    "l_m = levenbergMarquardt(x0)\n",
    "l_m\n"
   ]
  }
 ],
 "metadata": {
  "kernelspec": {
   "display_name": "Python 3.8.2 64-bit",
   "language": "python",
   "name": "python3"
  },
  "language_info": {
   "codemirror_mode": {
    "name": "ipython",
    "version": 3
   },
   "file_extension": ".py",
   "mimetype": "text/x-python",
   "name": "python",
   "nbconvert_exporter": "python",
   "pygments_lexer": "ipython3",
   "version": "3.8.2"
  },
  "orig_nbformat": 4,
  "vscode": {
   "interpreter": {
    "hash": "31f2aee4e71d21fbe5cf8b01ff0e069b9275f58929596ceb00d14d90e3e16cd6"
   }
  }
 },
 "nbformat": 4,
 "nbformat_minor": 2
}
