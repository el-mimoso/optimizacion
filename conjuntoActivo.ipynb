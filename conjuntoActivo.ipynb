{
 "cells": [
  {
   "cell_type": "code",
   "execution_count": 79,
   "metadata": {},
   "outputs": [],
   "source": [
    "import numpy as np"
   ]
  },
  {
   "cell_type": "code",
   "execution_count": 80,
   "metadata": {},
   "outputs": [],
   "source": [
    "def f(x):\n",
    "    return (x[0]-2)**2+(x[1]-2)**2"
   ]
  },
  {
   "cell_type": "code",
   "execution_count": 81,
   "metadata": {},
   "outputs": [],
   "source": [
    "def grad(x):\n",
    "    return np.array([2*(x[0]-2), 2*(x[1]-2)])\n",
    "\n",
    "\n",
    "def hess():\n",
    "    return np.array([\n",
    "        [2, 0], \n",
    "        [0, 2]\n",
    "        ])\n",
    "\n",
    "\n",
    "def restricciones():\n",
    "    return np.array([\n",
    "        [1, 1, 4], \n",
    "        [2, -1, 0]])\n"
   ]
  },
  {
   "cell_type": "code",
   "execution_count": 82,
   "metadata": {},
   "outputs": [
    {
     "ename": "SyntaxError",
     "evalue": "invalid syntax (4227068225.py, line 33)",
     "output_type": "error",
     "traceback": [
      "\u001b[1;36m  Cell \u001b[1;32mIn [82], line 33\u001b[1;36m\u001b[0m\n\u001b[1;33m    def armarSistema()\u001b[0m\n\u001b[1;37m                      ^\u001b[0m\n\u001b[1;31mSyntaxError\u001b[0m\u001b[1;31m:\u001b[0m invalid syntax\n"
     ]
    }
   ],
   "source": [
    "def conjuntoActivo(x0, constrains, nEq, nIneq):\n",
    "    alfa = 0\n",
    "    k = 0\n",
    "    xk = np.zeros(x0.shape)\n",
    "\n",
    "    m = constrains.shape[0]\n",
    "    n = xk.shape[0]\n",
    "\n",
    "    if (m != (nEq+nIneq)):\n",
    "        print(\"Ojo num de restricciones != igualdades + desigualdades\")\n",
    "        return\n",
    "    wk = calcularActiveSet(xk, constrains, nEq, nIneq)\n",
    "\n",
    "\n",
    "def calcularActiveSet(x, constrains, nEq, nIneq, TOL = 1e-6):\n",
    "    m = constrains.shape[0]\n",
    "    n = x.shape[0]\n",
    "    dim = n+m\n",
    "    w = np.empty([dim], dtype=bool)\n",
    "    # condiciones de igualdad\n",
    "    for i in range(0, n+nEq):\n",
    "        w[i] = True\n",
    "    # condiciones de desigualdad\n",
    "    # nieq?\n",
    "    for i in range(nEq, m):\n",
    "        suma = 0 \n",
    "        for j in range(0,n):\n",
    "            suma += constrains[i][j]*x[j]\n",
    "        if (abs(suma -constrains[i][n]) <= TOL):\n",
    "            w[i + (n + nEq)] = True\n",
    "    return w\n",
    "\n",
    "def armarSistema():\n",
    "    pass\n"
   ]
  },
  {
   "cell_type": "code",
   "execution_count": null,
   "metadata": {},
   "outputs": [
    {
     "name": "stdout",
     "output_type": "stream",
     "text": [
      "0.0\n",
      "0.0\n",
      "0.0\n",
      "0.0\n"
     ]
    }
   ],
   "source": [
    "x = np.array([2,4])\n",
    "A = restricciones()\n",
    "\n",
    "xk = conjuntoActivo(x,constrains=A, nEq= 0, nIneq = 2 )\n"
   ]
  }
 ],
 "metadata": {
  "kernelspec": {
   "display_name": "Python 3.8.1 32-bit",
   "language": "python",
   "name": "python3"
  },
  "language_info": {
   "codemirror_mode": {
    "name": "ipython",
    "version": 3
   },
   "file_extension": ".py",
   "mimetype": "text/x-python",
   "name": "python",
   "nbconvert_exporter": "python",
   "pygments_lexer": "ipython3",
   "version": "3.8.1"
  },
  "orig_nbformat": 4,
  "vscode": {
   "interpreter": {
    "hash": "dbd870ce3ecbb50051e36c03c034f91bd0ffd37935fd5f5a0057175bdb6e15f6"
   }
  }
 },
 "nbformat": 4,
 "nbformat_minor": 2
}
