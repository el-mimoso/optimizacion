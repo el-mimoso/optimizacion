{
 "cells": [
  {
   "cell_type": "code",
   "execution_count": 48,
   "metadata": {},
   "outputs": [],
   "source": [
    "import numpy as np\n",
    "import math\n",
    "from scipy import optimize\n",
    "\n",
    "def f(x):\n",
    "    a = x[0]**4+(x[1]-3)**2\n",
    "    b = 100-x[0]**4+x[1]**2\n",
    "    return (a/b)\n",
    "    # return (x[0]**4+(x[1]-3)**2)/(100+x[0]**4+x[1]**2)\n",
    "\n",
    "\n",
    "def grad(x):\n",
    "    return np.array([4*x[0]**3*(x[0]**4 + (x[1] - 3)**2)/(-x[0]**4 + x[1]**2 + 100)**2 + 4*x[0]**3/(-x[0]**4 + x[1]**2 + 100), -2*x[1]*(x[0]**4 + (x[1] - 3)**2)/(-x[0]**4 + x[1]**2 + 100)**2 + (2*x[1] - 6)/(-x[0]**4 + x[1]**2 + 100)])\n",
    "\n",
    "\n",
    "def hessiano(x):\n",
    "    return [[4*x[0]**2*(8*x[0]**4/(-x[0]**4 + x[1]**2 + 100) + (x[0]**4 + (x[1] - 3)**2)*(8*x[0]**4/(-x[0]**4 + x[1]**2 + 100) + 3)/(-x[0]**4 + x[1]**2 + 100) + 3)/(-x[0]**4 + x[1]**2 + 100), 8*x[0]**3*(-2*x[1]*(x[0]**4 + (x[1] - 3)**2)/(-x[0]**4 + x[1]**2 + 100) - 3)/(-x[0]**4 + x[1]**2 + 100)**2], [8*x[0]**3*(-2*x[1]*(x[0]**4 + (x[1] - 3)**2)/(-x[0]**4 + x[1]**2 + 100) - 3)/(-x[0]**4 + x[1]**2 + 100)**2, 2*(-4*x[1]*(x[1] - 3)/(-x[0]**4 + x[1]**2 + 100) + (x[0]**4 + (x[1] - 3)**2)*(4*x[1]**2/(-x[0]**4 + x[1]**2 + 100) - 1)/(-x[0]**4 + x[1]**2 + 100) + 1)/(-x[0]**4 + x[1]**2 + 100)]]\n"
   ]
  },
  {
   "cell_type": "code",
   "execution_count": 49,
   "metadata": {},
   "outputs": [
    {
     "name": "stdout",
     "output_type": "stream",
     "text": [
      "1 [0.80205486 2.10085776] 0.01175273035955997\n",
      "2 [0.52609669 2.25958707] 0.005948989904260008\n",
      "3 [0.2972955  2.40635704] 0.003405317332807616\n",
      "4 [0.0098271  2.60159355] 0.0014866559128864324\n",
      "5 [-0.3946372   2.87947543] 0.00035819423403072453\n",
      "6 [-0.34067587  2.84692575] 0.00034139275939130243\n",
      "7 [-0.34989273  2.85742359] 0.00032654584036805436\n",
      "8 [-0.35577995  2.87223989] 0.0002988438158605732\n",
      "9 [-0.35634281  2.89617881] 0.00024824564107763284\n",
      "10 [-0.34345834  2.9379996 ] 0.00016350402446558193\n",
      "11 [-0.29114041  3.01249067] 6.730429115674264e-05\n",
      "12 [-0.25668735  3.02000519] 4.345361423229815e-05\n",
      "13 [-0.18723489  3.01154123] 1.2489315541621813e-05\n",
      "14 [-0.14244677  3.00164733] 3.8018871824940733e-06\n",
      "15 [-0.10942445  2.99833011] 1.3410262013427456e-06\n",
      "16 [-0.08353154  2.99857921] 4.652146158604252e-07\n",
      "17 [-0.06272006  2.99961581] 1.433280652957219e-07\n",
      "Optimization terminated successfully.\n",
      "         Current function value: 0.000000\n",
      "         Iterations: 17\n",
      "         Function evaluations: 19\n",
      "         Gradient evaluations: 19\n"
     ]
    },
    {
     "data": {
      "text/plain": [
       "      fun: 1.433280652957219e-07\n",
       " hess_inv: array([[969.44096864,   2.86355329],\n",
       "       [  2.86355329,  37.37385652]])\n",
       "      jac: array([-9.05445195e-06, -7.05732164e-06])\n",
       "  message: 'Optimization terminated successfully.'\n",
       "     nfev: 19\n",
       "      nit: 17\n",
       "     njev: 19\n",
       "   status: 0\n",
       "  success: True\n",
       "        x: array([-0.06272006,  2.99961581])"
      ]
     },
     "execution_count": 49,
     "metadata": {},
     "output_type": "execute_result"
    }
   ],
   "source": [
    "Nfeval = 1 \n",
    "def callbackF(Xi):\n",
    "    global Nfeval\n",
    "    print(Nfeval, Xi, f(Xi))\n",
    "    Nfeval += 1\n",
    "\n",
    "x0 = np.array([1,2])\n",
    "optimize.minimize(f, x0, method='BFGS', callback=callbackF, jac=grad,\n",
    "                  options={\"disp\": True})\n"
   ]
  },
  {
   "cell_type": "code",
   "execution_count": 50,
   "metadata": {},
   "outputs": [
    {
     "name": "stdout",
     "output_type": "stream",
     "text": [
      "[-8.63894525e-06 -5.67078781e-06]\n",
      "7.70195879100483e-06\n"
     ]
    }
   ],
   "source": [
    "xstar = np.array([-0.06174568,  2.99969135])\n",
    "print(grad(xstar))\n",
    "print(np.linalg.det(hessiano(xstar)))\n",
    "\n"
   ]
  },
  {
   "cell_type": "code",
   "execution_count": 51,
   "metadata": {},
   "outputs": [],
   "source": [
    "#Calculos de phi\n",
    "def phiAlpha(x0, alpha, p):\n",
    "    paX = x0 + p * alpha\n",
    "    return f(paX)\n",
    "\n",
    "\n",
    "def phipAlpha(x0, alpha, p):\n",
    "    x = x0 + alpha * p\n",
    "    vgrad = grad(x)\n",
    "    return (np.dot(vgrad, p))\n",
    "\n",
    "\n",
    "def phipp(x0, alpha, p):\n",
    "    x = x0 + alpha * p\n",
    "    ahess = hessiano(x)\n",
    "    return np.dot(np.dot(ahess, p), p)\n",
    "\n",
    "\n",
    "# Gradiente Conjugado NL\n",
    "def newton(xo, p, ao, itmax=100, tol=1e-12):\n",
    "    k = 0\n",
    "    # ak = 0\n",
    "    while abs(phipAlpha(xo, ao, p)) > tol:\n",
    "        phiap = phipAlpha(xo, ao, p)\n",
    "        phiapp = phipp(xo, ao, p)\n",
    "        ak = ao - phiap/phiapp\n",
    "        # print(f\"\\t {k}, {ak}\")\n",
    "        k = k+1\n",
    "        ao = ak\n",
    "        if k >= itmax:\n",
    "            print(\"Iteraciones exedidas\")\n",
    "            break\n",
    "    return ak\n",
    "\n",
    "\n",
    "def gradientesConjugados(x0, flavor=\"FR\", k=0, tol=1e-6):\n",
    "    beta = 0\n",
    "    p = -grad(x0)\n",
    "    print(\"k, fx, x0, alpha, beta, \")\n",
    "    while np.linalg.norm(grad(x0)) >= tol:\n",
    "        alpha = newton(x0, p, 0)\n",
    "        xi = x0 + alpha*p\n",
    "        gradxi = grad(xi)\n",
    "        gradx0 = grad(x0)\n",
    "        if flavor == \"FR\":\n",
    "            beta = np.dot(gradxi, gradxi)/np.dot(gradx0, gradx0)\n",
    "        elif flavor == \"PR\":\n",
    "            beta = np.dot(gradxi, (gradxi - gradx0)) / \\\n",
    "                (np.linalg.norm(gradx0))**2\n",
    "        elif flavor == \"PR+\":\n",
    "            beta = np.dot(gradxi, (gradxi - gradx0)) / \\\n",
    "                (np.linalg.norm(gradx0))**2\n",
    "            if beta < 0:\n",
    "                beta = 0\n",
    "        elif flavor == \"HS\":\n",
    "            beta = np.dot(gradxi, (gradxi - gradx0)) / \\\n",
    "                np.dot((gradxi - gradx0), p)\n",
    "        p = -gradxi + beta*p\n",
    "        print(k,\n",
    "              #  f(x0),\n",
    "              xi, alpha, beta)\n",
    "        x0 = xi\n",
    "        k += 1\n",
    "    return x0\n"
   ]
  },
  {
   "cell_type": "code",
   "execution_count": 52,
   "metadata": {},
   "outputs": [
    {
     "name": "stdout",
     "output_type": "stream",
     "text": [
      "k, fx, x0, alpha, beta, \n",
      "0 [-0.4153612   2.72116023] 35.75134982794711 0.017549317315173493\n",
      "1 [-0.30938852  3.02118856] 53.59077195496832 0.012577679852078569\n",
      "2 [-0.14977092  2.97619336] 143.72467202199738 0.18172145823329153\n",
      "3 [-0.12649303  3.0034627 ] 71.56578370343873 0.13585450009186137\n",
      "4 [-0.0555719   2.99650371] 598.7513363081988 0.8138791760426157\n",
      "5 [-0.04821912  3.00042102] 71.59343198184696 0.1313610424916864\n",
      "6 [-0.01965618  2.99955358] 1622.416729981998 1.6887889055093748\n",
      "7 [-0.01763992  3.00004328] 67.18601426861495 0.10596703076113778\n"
     ]
    },
    {
     "data": {
      "text/plain": [
       "array([-0.01763992,  3.00004328])"
      ]
     },
     "execution_count": 52,
     "metadata": {},
     "output_type": "execute_result"
    }
   ],
   "source": [
    "gradientesConjugados(x0,\"PR+\")"
   ]
  },
  {
   "cell_type": "code",
   "execution_count": 53,
   "metadata": {},
   "outputs": [
    {
     "name": "stdout",
     "output_type": "stream",
     "text": [
      "1 0.0021563386249199403 [0.69306542 2.94429407]\n",
      "2 0.00042563575337727154 [0.46402636 2.99763088]\n",
      "3 8.423869375752761e-05 [0.30954279 2.99957428]\n",
      "4 1.6646141414261858e-05 [0.20638697 2.99991576]\n",
      "5 3.288376603285467e-06 [0.13759463 2.99998335]\n"
     ]
    },
    {
     "data": {
      "text/plain": [
       "array([0.13759463, 2.99998335])"
      ]
     },
     "execution_count": 53,
     "metadata": {},
     "output_type": "execute_result"
    }
   ],
   "source": [
    "def newtonNDim(x0, tol=1e-4):\n",
    "    k = 0\n",
    "    while np.linalg.norm(grad(x0)) > tol:\n",
    "        x0 = x0 - np.dot(np.linalg.inv(hessiano(x0)), grad(x0))\n",
    "        k = k+1\n",
    "        print(k, f(x0), x0)\n",
    "    return x0\n",
    "newtonNDim(x0)"
   ]
  },
  {
   "cell_type": "code",
   "execution_count": 54,
   "metadata": {},
   "outputs": [
    {
     "name": "stdout",
     "output_type": "stream",
     "text": [
      "0 [1 2] 0.019417475728155338\n",
      "0 [1 2] 0.019417 [0.69323069 2.93975236] 0.002164 0.001\n",
      "1 [0.69323069 2.93975236] 0.002164 [0.46461871 2.99729184] 0.000428 0.001\n",
      "2 [0.46461871 2.99729184] 0.000428 [0.3105884  2.99956671] 8.5e-05 0.001\n",
      "3 [0.3105884  2.99956671] 8.5e-05 [0.20804961 2.9999159 ] 1.7e-05 0.001\n",
      "4 [0.20804961 2.9999159 ] 1.7e-05 [0.14012839 2.99998385] 4e-06 0.001\n",
      "5 [0.14012839 2.99998385] 4e-06 [0.09548453 2.99999702] 1e-06 0.001\n",
      "6 [0.09548453 2.99999702] 1e-06 [0.06654008 2.9999995 ] 0.0 0.001\n",
      "7 [0.06654008 2.9999995 ] 0.0 [0.04813576 2.99999994] 0.0 0.001\n",
      "8 [0.04813576 2.99999994] 0.0 [0.03660918 3.00000001] 0.0 0.001\n",
      "9 [0.03660918 3.00000001] 0.0 [0.02933568 3.00000001] 0.0 0.001\n"
     ]
    },
    {
     "data": {
      "text/plain": [
       "array([0.02933568, 3.00000001])"
      ]
     },
     "execution_count": 54,
     "metadata": {},
     "output_type": "execute_result"
    }
   ],
   "source": [
    "def levenbergMarquardt(x0, tol=1e-6):\n",
    "    k = 0\n",
    "    mu = 1e-3\n",
    "    v = 10\n",
    "    n = np.shape(hessiano(x0))\n",
    "    I = np.identity(n[0])\n",
    "    print(k, x0, f(x0))\n",
    "    while np.linalg.norm(grad(x0)) >= tol:\n",
    "        mu = mu/v\n",
    "        while True:\n",
    "            delta = np.dot(np.linalg.inv(hessiano(x0) + mu*I), grad(x0))\n",
    "            x1 = x0 - delta\n",
    "            mu = mu * v\n",
    "            # k = k+1\n",
    "            print(k,  x0, round(f(x0), 6), x1, round(f(x1), 6), mu)\n",
    "            if (f(x1) < f(x0)):\n",
    "                x0 = x1\n",
    "                break\n",
    "        k = k+1\n",
    "    return x0\n",
    "\n",
    "levenbergMarquardt(x0)"
   ]
  }
 ],
 "metadata": {
  "kernelspec": {
   "display_name": "baile",
   "language": "python",
   "name": "python3"
  },
  "language_info": {
   "codemirror_mode": {
    "name": "ipython",
    "version": 3
   },
   "file_extension": ".py",
   "mimetype": "text/x-python",
   "name": "python",
   "nbconvert_exporter": "python",
   "pygments_lexer": "ipython3",
   "version": "3.10.6"
  },
  "orig_nbformat": 4,
  "vscode": {
   "interpreter": {
    "hash": "62ed03cf0ae78fa95a71efbccdd357a71f03a6d7f643ed6449667ba12cd077d7"
   }
  }
 },
 "nbformat": 4,
 "nbformat_minor": 2
}
