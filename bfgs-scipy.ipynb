{
 "cells": [
  {
   "cell_type": "code",
   "execution_count": 1,
   "metadata": {},
   "outputs": [],
   "source": [
    "# Bibliotecas\n",
    "import numpy as np\n",
    "import math\n",
    "\n"
   ]
  },
  {
   "cell_type": "code",
   "execution_count": 2,
   "metadata": {},
   "outputs": [],
   "source": [
    "u = [0.1, 0.2, 0.3, 0.4, 0.5, 0.6, 0.7,\n",
    "     0.8, 0.9, 1.0, 1.1, 1.2, 1.3, 1.4, 1.5]\n",
    "v = [4.74, 5.12, 5.39, 5.49, 5.43, 5.21, 4.85,\n",
    "     4.42, 3.97, 3.56, 3.26, 3.11, 3.13, 3.31, 3.63]\n",
    "\n",
    "\n",
    "def f(x):\n",
    "    \"\"\"Funición a evaluar\"\"\"\n",
    "    a = 0\n",
    "    for i in range(0, 15):\n",
    "        aux = x[0]*math.sin(x[1]*u[i])+x[2]-v[i]\n",
    "        a += aux**2\n",
    "    return a\n",
    "\n",
    "\n",
    "def jHess(x):\n",
    "    jH = 0\n",
    "    for i in range(0, 15):\n",
    "        j = jacobian(x, i)\n",
    "        jH += np.outer(j, j)\n",
    "    return jH\n",
    "\n",
    "\n",
    "def jGrad(x):\n",
    "    jG = 0\n",
    "    for i in range(0, 15):\n",
    "        j = jacobian(x, i)\n",
    "        jG += j*fxerror(x, i)\n",
    "    return jG\n",
    "\n",
    "def fxerror(x, i):\n",
    "    return x[0]*(math.sin(x[1]*u[i]))+x[2]-v[i]\n",
    "\n",
    "\n",
    "def jacobian(x, i):\n",
    "    return np.array([math.sin(x[1]*u[i]),\n",
    "                     u[i]*x[0]*math.cos(x[1]*u[i]),\n",
    "                     1\n",
    "                     ])\n"
   ]
  },
  {
   "cell_type": "code",
   "execution_count": 3,
   "metadata": {},
   "outputs": [
    {
     "name": "stdout",
     "output_type": "stream",
     "text": [
      "1 [1.54553976 1.88021823 2.14150977] 32.613175033973214\n",
      "2 [1.6632417  3.80117716 2.93893949] 29.18936306151087\n",
      "3 [1.58762302 4.13389593 3.14666809] 22.469198182547117\n",
      "4 [1.4210597  4.92457371 3.62412718] 17.841680365966244\n",
      "5 [1.37360317 4.52754835 3.76235286] 9.330063675033134\n",
      "6 [1.38908965 3.64200655 4.16648374] 0.6663140369284426\n",
      "7 [1.27924996 3.77370556 4.27575456] 0.06403742740532217\n",
      "8 [1.22858375 3.82990558 4.30948054] 0.014281658513958125\n",
      "9 [1.22457365 3.81519687 4.30635121] 0.007689685740655044\n",
      "10 [1.20724437 3.79760044 4.29731042] 0.000645345199975978\n",
      "11 [1.20067956 3.79720112 4.29546778] 0.0001234385282474625\n",
      "12 [1.19974065 3.7982007  4.29539778] 0.00010300487705353434\n",
      "13 [1.19973438 3.79841246 4.29544086] 0.00010264183011123203\n",
      "14 [1.19974285 3.79842302 4.29544515] 0.00010264038734252376\n",
      "Optimization terminated successfully.\n",
      "         Current function value: 0.000103\n",
      "         Iterations: 14\n",
      "         Function evaluations: 64\n",
      "         Gradient evaluations: 16\n"
     ]
    },
    {
     "data": {
      "text/plain": [
       "      fun: 0.00010264038734252376\n",
       " hess_inv: array([[ 0.05982876,  0.00788476, -0.00155094],\n",
       "       [ 0.00788476,  0.06967891,  0.0085072 ],\n",
       "       [-0.00155094,  0.0085072 ,  0.0363498 ]])\n",
       "      jac: array([-6.82953123e-06,  7.47722879e-07, -4.45362002e-06])\n",
       "  message: 'Optimization terminated successfully.'\n",
       "     nfev: 64\n",
       "      nit: 14\n",
       "     njev: 16\n",
       "   status: 0\n",
       "  success: True\n",
       "        x: array([1.19974285, 3.79842302, 4.29544515])"
      ]
     },
     "execution_count": 3,
     "metadata": {},
     "output_type": "execute_result"
    }
   ],
   "source": [
    "import numpy as np\n",
    "import math\n",
    "from scipy import optimize\n",
    "\n",
    "x0 = np.array([1.0, 2.0, 1.3])\n",
    "\n",
    "Nfeval = 1\n",
    "\n",
    "\n",
    "def callbackF(Xi):\n",
    "    global Nfeval\n",
    "    print(Nfeval, Xi, f(Xi))\n",
    "    Nfeval += 1\n",
    "\n",
    "\n",
    "optimize.minimize(f, x0, method='BFGS', callback=callbackF,\n",
    "                  options={\"disp\": True})\n"
   ]
  }
 ],
 "metadata": {
  "kernelspec": {
   "display_name": "baile",
   "language": "python",
   "name": "python3"
  },
  "language_info": {
   "codemirror_mode": {
    "name": "ipython",
    "version": 3
   },
   "file_extension": ".py",
   "mimetype": "text/x-python",
   "name": "python",
   "nbconvert_exporter": "python",
   "pygments_lexer": "ipython3",
   "version": "3.10.6"
  },
  "orig_nbformat": 4,
  "vscode": {
   "interpreter": {
    "hash": "62ed03cf0ae78fa95a71efbccdd357a71f03a6d7f643ed6449667ba12cd077d7"
   }
  }
 },
 "nbformat": 4,
 "nbformat_minor": 2
}
