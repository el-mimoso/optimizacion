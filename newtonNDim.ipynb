{
 "cells": [
  {
   "cell_type": "code",
   "execution_count": 52,
   "metadata": {},
   "outputs": [],
   "source": [
    "# Bibliotecas\n",
    "import numpy as np\n",
    "import math\n"
   ]
  },
  {
   "cell_type": "code",
   "execution_count": 53,
   "metadata": {},
   "outputs": [],
   "source": [
    "def f(x):\n",
    "    \"\"\"Funición a evaluar\"\"\"\n",
    "    a = (np.e**(-x[0]**2 - x[1]**2))*x[0]\n",
    "    return a\n",
    "   \n",
    "\n",
    "\n",
    "def grad(x):\n",
    "    \"\"\" Retorna gradiente f\"\"\"\n",
    "    list1 = [1-2*x[0]**2, -2*x[0]*x[1]]\n",
    "    return np.array(list1)*math.e**(-x[0]**2 - x[1]**2)  \n",
    "\n",
    "\n",
    "def hessiano(x):\n",
    "    \"\"\"Evalua la matriz Hessiana, ingresar derivadas\"\"\"\n",
    "    axax = (2*x[0]*((2*x[0]**2)-3))*math.e**(-(x[0]**2) - (x[1]**2))\n",
    "    ayay = (2*x[0]*((2*x[1]**2) - 1))*math.e**(-(x[0]**2) - (x[1]**2))\n",
    "    axay = 2*(2*x[0]**2 - 1)*x[1]*math.e**(-x[0]**2 - x[1]**2)\n",
    "    # return axay\n",
    "    return np.array([\n",
    "        [axax, axay],\n",
    "        [axay, ayay]\n",
    "    ])\n",
    " \n",
    "\n",
    "\n",
    "def dirgrad(x):\n",
    "    \"\"\"Retorna la dirección del gradiente p\"\"\"\n",
    "    vgrad = grad(x[0], x[1])\n",
    "    magGrad = np.sqrt(vgrad.dot(vgrad))\n",
    "    p = -vgrad/magGrad\n",
    "    return p\n"
   ]
  },
  {
   "cell_type": "code",
   "execution_count": 54,
   "metadata": {},
   "outputs": [],
   "source": [
    "def newtonNDim(x0, tol=1e-4):\n",
    "    k = 0\n",
    "    while np.linalg.norm(grad(x0)) > tol:\n",
    "        x0 = x0 - np.dot(np.linalg.inv(hessiano(x0)), grad(x0))\n",
    "        k = k+1\n",
    "    return x0\n"
   ]
  },
  {
   "cell_type": "code",
   "execution_count": 55,
   "metadata": {},
   "outputs": [
    {
     "name": "stdout",
     "output_type": "stream",
     "text": [
      "[-7.07105730e-01 -2.46444634e-05]\n"
     ]
    }
   ],
   "source": [
    "x0 = np.array([-0.5, -.1])\n",
    "print(newtonNDim(x0))"
   ]
  }
 ],
 "metadata": {
  "kernelspec": {
   "display_name": "Python 3.8.2 64-bit",
   "language": "python",
   "name": "python3"
  },
  "language_info": {
   "codemirror_mode": {
    "name": "ipython",
    "version": 3
   },
   "file_extension": ".py",
   "mimetype": "text/x-python",
   "name": "python",
   "nbconvert_exporter": "python",
   "pygments_lexer": "ipython3",
   "version": "3.8.2"
  },
  "orig_nbformat": 4,
  "vscode": {
   "interpreter": {
    "hash": "31f2aee4e71d21fbe5cf8b01ff0e069b9275f58929596ceb00d14d90e3e16cd6"
   }
  }
 },
 "nbformat": 4,
 "nbformat_minor": 2
}
