{
 "cells": [
  {
   "cell_type": "code",
   "execution_count": 1,
   "metadata": {},
   "outputs": [],
   "source": [
    "# Bibliotecas\n",
    "import numpy as np\n",
    "import math\n"
   ]
  },
  {
   "cell_type": "code",
   "execution_count": 7,
   "metadata": {},
   "outputs": [],
   "source": [
    "def f(x):\n",
    "    \"\"\"Funición a evaluar\"\"\"\n",
    "    a = (np.e**(-x[0]**2 - x[1]**2))*x[0]\n",
    "    return a\n",
    "   \n",
    "\n",
    "\n",
    "def grad(x):\n",
    "    \"\"\" Retorna gradiente f\"\"\"\n",
    "    list1 = [1-2*x[0]**2, -2*x[0]*x[1]]\n",
    "    return np.array(list1)*math.e**(-x[0]**2 - x[1]**2)  \n",
    "\n",
    "\n",
    "def hessiano(x):\n",
    "    \"\"\"Evalua la matriz Hessiana, ingresar derivadas\"\"\"\n",
    "    axax = (2*x[0]*((2*x[0]**2)-3))*math.e**(-(x[0]**2) - (x[1]**2))\n",
    "    ayay = (2*x[0]*((2*x[1]**2) - 1))*math.e**(-(x[0]**2) - (x[1]**2))\n",
    "    axay = 2*(2*x[0]**2 - 1)*x[1]*math.e**(-x[0]**2 - x[1]**2)\n",
    "    # return axay\n",
    "    return np.array([\n",
    "        [axax, axay],\n",
    "        [axay, ayay]\n",
    "    ])\n",
    " \n",
    "\n",
    "\n",
    "def dirgrad(x):\n",
    "    \"\"\"Retorna la dirección del gradiente p\"\"\"\n",
    "    vgrad = grad(x[0], x[1])\n",
    "    magGrad = np.sqrt(vgrad.dot(vgrad))\n",
    "    p = -vgrad/magGrad\n",
    "    return p\n"
   ]
  },
  {
   "cell_type": "code",
   "execution_count": 10,
   "metadata": {},
   "outputs": [],
   "source": [
    "def newtonNDim(x0, tol=1e-4):\n",
    "    k = 0\n",
    "    while np.linalg.norm(grad(x0)) > tol:\n",
    "        x0 = x0 - np.dot(np.linalg.inv(hessiano(x0)), grad(x0))\n",
    "        k = k+1\n",
    "        print(k, f(x0), x0)\n",
    "    return x0\n"
   ]
  },
  {
   "cell_type": "code",
   "execution_count": 11,
   "metadata": {},
   "outputs": [
    {
     "name": "stdout",
     "output_type": "stream",
     "text": [
      "0 -0.3032653298563167 [-0.5 -0.5]\n",
      "1 -0.13533528323661265 [-1.  1.]\n",
      "2 -0.012254568794777298 [-1.25  1.75]\n",
      "3 -0.003497270674811511 [-1.35353228  2.03136419]\n",
      "4 -0.00107748370704676 [-1.44164207  2.26286937]\n",
      "5 -0.00034522122260717113 [-1.52062389  2.4653902 ]\n",
      "6 -0.00011332924319065941 [-1.5932532   2.64811924]\n",
      "7 -3.783114708957557e-05 [-1.66107528  2.81614486]\n",
      "[-1.72506638  2.97265527]\n"
     ]
    }
   ],
   "source": [
    "x0 = np.array([-0.5, -.5])\n",
    "print(newtonNDim(x0))"
   ]
  }
 ],
 "metadata": {
  "kernelspec": {
   "display_name": "Python 3.8.1 32-bit",
   "language": "python",
   "name": "python3"
  },
  "language_info": {
   "codemirror_mode": {
    "name": "ipython",
    "version": 3
   },
   "file_extension": ".py",
   "mimetype": "text/x-python",
   "name": "python",
   "nbconvert_exporter": "python",
   "pygments_lexer": "ipython3",
   "version": "3.8.1"
  },
  "orig_nbformat": 4,
  "vscode": {
   "interpreter": {
    "hash": "dbd870ce3ecbb50051e36c03c034f91bd0ffd37935fd5f5a0057175bdb6e15f6"
   }
  }
 },
 "nbformat": 4,
 "nbformat_minor": 2
}
