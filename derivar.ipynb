{
 "cells": [
  {
   "cell_type": "code",
   "execution_count": 1,
   "metadata": {},
   "outputs": [],
   "source": [
    "from sympy import *\n",
    "import numpy as np\n",
    "import math"
   ]
  },
  {
   "cell_type": "code",
   "execution_count": 5,
   "metadata": {},
   "outputs": [],
   "source": [
    "x, y = symbols('x y')\n",
    "e = math.e\n",
    "b= 10\n",
    "f = (x-1)**2 + b*(y-x**2)**2\n",
    "dx = diff(f,x)\n",
    "dy = diff(f,y)\n"
   ]
  },
  {
   "cell_type": "code",
   "execution_count": 10,
   "metadata": {},
   "outputs": [
    {
     "name": "stdout",
     "output_type": "stream",
     "text": [
      "[-40*x*(-x**2 + y) + 2*x - 2, -20*x**2 + 20*y]\n"
     ]
    }
   ],
   "source": [
    "# ∇f gradiente\n",
    "gradiente = [dx, dy]\n",
    "print(gradiente)"
   ]
  },
  {
   "cell_type": "code",
   "execution_count": 8,
   "metadata": {},
   "outputs": [
    {
     "name": "stdout",
     "output_type": "stream",
     "text": [
      "2*(60*x**2 - 20*y + 1)\n",
      "20\n",
      "-40*x\n",
      "[[2*(60*x**2 - 20*y + 1), -40*x], [-40*x, 20]]\n"
     ]
    }
   ],
   "source": [
    "# ∇^2f Hessiano\n",
    "ddx = diff(f,x, 2)\n",
    "ddy = diff(f, y, 2)\n",
    "dxy = diff(f, x ,y)\n",
    "print(ddx)\n",
    "print(ddy)\n",
    "print(dxy)\n",
    "\n",
    "h=[[ddx,dxy],\n",
    "[dxy, ddy]\n",
    "]\n",
    "\n",
    "print(h)"
   ]
  }
 ],
 "metadata": {
  "kernelspec": {
   "display_name": "Python 3.8.1 32-bit",
   "language": "python",
   "name": "python3"
  },
  "language_info": {
   "codemirror_mode": {
    "name": "ipython",
    "version": 3
   },
   "file_extension": ".py",
   "mimetype": "text/x-python",
   "name": "python",
   "nbconvert_exporter": "python",
   "pygments_lexer": "ipython3",
   "version": "3.8.1"
  },
  "orig_nbformat": 4,
  "vscode": {
   "interpreter": {
    "hash": "dbd870ce3ecbb50051e36c03c034f91bd0ffd37935fd5f5a0057175bdb6e15f6"
   }
  }
 },
 "nbformat": 4,
 "nbformat_minor": 2
}
