{
 "cells": [
  {
   "cell_type": "code",
   "execution_count": 1,
   "metadata": {},
   "outputs": [],
   "source": [
    "from sympy import *\n",
    "import numpy as np\n",
    "import math"
   ]
  },
  {
   "cell_type": "code",
   "execution_count": 12,
   "metadata": {},
   "outputs": [],
   "source": [
    "x, y = symbols('x y z')\n",
    "e = math.e\n",
    "f = x*e**(-x**2-y**2)\n",
    "dx = diff(f,x)\n",
    "dy = diff(f,y)\n",
    "\n",
    "ddx = diff()"
   ]
  },
  {
   "cell_type": "code",
   "execution_count": 13,
   "metadata": {},
   "outputs": [
    {
     "name": "stdout",
     "output_type": "stream",
     "text": [
      "[-2.0*2.71828182845905**(-x**2 - y**2)*x**2 + 2.71828182845905**(-x**2 - y**2)\n",
      " -2.0*2.71828182845905**(-x**2 - y**2)*x*y]\n"
     ]
    }
   ],
   "source": [
    "# ∇f gradiente\n",
    "gradiente = np.array([dx, dy])\n",
    "print(gradiente)"
   ]
  },
  {
   "cell_type": "code",
   "execution_count": 14,
   "metadata": {},
   "outputs": [
    {
     "name": "stdout",
     "output_type": "stream",
     "text": [
      "2.71828182845905**(-x**2 - y**2)*x*(4.0*x**2 - 6.0)\n",
      "2.71828182845905**(-x**2 - y**2)*x*(4.0*y**2 - 2.0)\n",
      "2.71828182845905**(-x**2 - y**2)*y*(4.0*x**2 - 2.0)\n"
     ]
    }
   ],
   "source": [
    "# ∇^2f Hessiano\n",
    "ddx = diff(f,x, 2)\n",
    "ddy = diff(f, y, 2)\n",
    "dxy = diff(f, x ,y)\n",
    "print(ddx)\n",
    "print(ddy)\n",
    "print(dxy)"
   ]
  }
 ],
 "metadata": {
  "kernelspec": {
   "display_name": "Python 3.9.12 ('base')",
   "language": "python",
   "name": "python3"
  },
  "language_info": {
   "codemirror_mode": {
    "name": "ipython",
    "version": 3
   },
   "file_extension": ".py",
   "mimetype": "text/x-python",
   "name": "python",
   "nbconvert_exporter": "python",
   "pygments_lexer": "ipython3",
   "version": "3.9.12"
  },
  "orig_nbformat": 4,
  "vscode": {
   "interpreter": {
    "hash": "15962afdcf4324554b88c19b563e01ce8b9b967cabc53b6a6f7e8c4c4f6af602"
   }
  }
 },
 "nbformat": 4,
 "nbformat_minor": 2
}
