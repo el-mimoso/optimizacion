{
 "cells": [
  {
   "cell_type": "code",
   "execution_count": 15,
   "metadata": {},
   "outputs": [],
   "source": [
    "from sympy import *\n",
    "import numpy as np\n",
    "import math"
   ]
  },
  {
   "cell_type": "code",
   "execution_count": 16,
   "metadata": {},
   "outputs": [],
   "source": [
    "x, y = symbols('x y')\n",
    "a = x**4+(y-3)**2\n",
    "b = 100-x**4+y**2\n",
    "f = a/b\n",
    "dx = diff(f, x)\n",
    "dy = diff(f, y)\n"
   ]
  },
  {
   "cell_type": "code",
   "execution_count": 17,
   "metadata": {},
   "outputs": [
    {
     "name": "stdout",
     "output_type": "stream",
     "text": [
      "[4*x**3*(x**4 + (y - 3)**2)/(-x**4 + y**2 + 100)**2 + 4*x**3/(-x**4 + y**2 + 100), -2*y*(x**4 + (y - 3)**2)/(-x**4 + y**2 + 100)**2 + (2*y - 6)/(-x**4 + y**2 + 100)]\n"
     ]
    }
   ],
   "source": [
    "# ∇f gradiente\n",
    "gradiente = [dx, dy]\n",
    "print(gradiente)"
   ]
  },
  {
   "cell_type": "code",
   "execution_count": 18,
   "metadata": {},
   "outputs": [
    {
     "name": "stdout",
     "output_type": "stream",
     "text": [
      "4*x**2*(8*x**4/(-x**4 + y**2 + 100) + (x**4 + (y - 3)**2)*(8*x**4/(-x**4 + y**2 + 100) + 3)/(-x**4 + y**2 + 100) + 3)/(-x**4 + y**2 + 100)\n",
      "2*(-4*y*(y - 3)/(-x**4 + y**2 + 100) + (x**4 + (y - 3)**2)*(4*y**2/(-x**4 + y**2 + 100) - 1)/(-x**4 + y**2 + 100) + 1)/(-x**4 + y**2 + 100)\n",
      "8*x**3*(-2*y*(x**4 + (y - 3)**2)/(-x**4 + y**2 + 100) - 3)/(-x**4 + y**2 + 100)**2\n",
      "[[4*x**2*(8*x**4/(-x**4 + y**2 + 100) + (x**4 + (y - 3)**2)*(8*x**4/(-x**4 + y**2 + 100) + 3)/(-x**4 + y**2 + 100) + 3)/(-x**4 + y**2 + 100), 8*x**3*(-2*y*(x**4 + (y - 3)**2)/(-x**4 + y**2 + 100) - 3)/(-x**4 + y**2 + 100)**2], [8*x**3*(-2*y*(x**4 + (y - 3)**2)/(-x**4 + y**2 + 100) - 3)/(-x**4 + y**2 + 100)**2, 2*(-4*y*(y - 3)/(-x**4 + y**2 + 100) + (x**4 + (y - 3)**2)*(4*y**2/(-x**4 + y**2 + 100) - 1)/(-x**4 + y**2 + 100) + 1)/(-x**4 + y**2 + 100)]]\n"
     ]
    }
   ],
   "source": [
    "# ∇^2f Hessiano\n",
    "ddx = diff(f,x, 2)\n",
    "ddy = diff(f, y, 2)\n",
    "dxy = diff(f, x ,y)\n",
    "# print(ddx)\n",
    "# print(ddy)\n",
    "# print(dxy)\n",
    "\n",
    "h=[[ddx,dxy],\n",
    "[dxy, ddy]\n",
    "]\n",
    "\n",
    "print(h)"
   ]
  }
 ],
 "metadata": {
  "kernelspec": {
   "display_name": "baile",
   "language": "python",
   "name": "python3"
  },
  "language_info": {
   "codemirror_mode": {
    "name": "ipython",
    "version": 3
   },
   "file_extension": ".py",
   "mimetype": "text/x-python",
   "name": "python",
   "nbconvert_exporter": "python",
   "pygments_lexer": "ipython3",
   "version": "3.10.6 | packaged by conda-forge | (main, Oct 24 2022, 16:02:16) [MSC v.1916 64 bit (AMD64)]"
  },
  "orig_nbformat": 4,
  "vscode": {
   "interpreter": {
    "hash": "62ed03cf0ae78fa95a71efbccdd357a71f03a6d7f643ed6449667ba12cd077d7"
   }
  }
 },
 "nbformat": 4,
 "nbformat_minor": 2
}
