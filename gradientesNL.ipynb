{
 "cells": [
  {
   "cell_type": "code",
   "execution_count": null,
   "metadata": {},
   "outputs": [],
   "source": [
    "# Bibliotecas\n",
    "import matplotlib.pyplot as plt\n",
    "import numpy as np\n",
    "import math\n"
   ]
  },
  {
   "cell_type": "code",
   "execution_count": null,
   "metadata": {},
   "outputs": [],
   "source": [
    "def f(x):\n",
    "    #Funición a evaluar\n",
    "    a = (np.e**(-x[0]**2 - x[1]**2))*x[0]\n",
    "    return a\n",
    "\n",
    "\n",
    "def grad(x):\n",
    "    \"\"\" Retorna gradiente  ∇f\"\"\"\n",
    "    list1 = [1-2*x[0]**2, -2*x[0]*x[1]]\n",
    "    descenso = np.array(list1)*math.e**(-x[0]**2 - x[1]**2)\n",
    "    return descenso\n",
    "\n",
    "\n",
    "def hessiano(x):\n",
    "    \"\"\"Evalua la matriz Hessiana, ingresar derivadas\"\"\"\n",
    "    axax = (2*x[0]*((2*x[0]**2)-3))*math.e**(-(x[0]**2) - (x[1]**2))\n",
    "    ayay = (2*x[0]*((2*x[0][1]**2) - 1))*math.e**(-(x[0]**2) - (x[1]**2))\n",
    "    axay = 2*(2*x[0]**2 - 1)*x[1]*math.e**(-x[0]**2 - x[1]**2)\n",
    "    # return axay\n",
    "    return np.array([\n",
    "        [axax, axay],\n",
    "        [axay, ayay]\n",
    "    ])\n",
    "\n",
    "\n",
    "def dirgrad(x):\n",
    "    \"\"\"Retorta la dirección del gradiente p\"\"\"\n",
    "    vgrad = grad(x[0], x[1])\n",
    "    magGrad = np.sqrt(vgrad.dot(vgrad))\n",
    "    p = -vgrad/magGrad\n",
    "    return p\n"
   ]
  },
  {
   "cell_type": "code",
   "execution_count": null,
   "metadata": {},
   "outputs": [],
   "source": [
    "# Gradiente Conjugado NL\n",
    "\n",
    "def gradienteConjugado(x0, flavor =\"FR\" , k=0, tol=1e-6):\n",
    "    p = grad(x0)\n",
    "    print(x0)\n",
    "    print(\"k, x0, alpha, beta, Ap\")\n",
    "    while np.linalg.norm(r) >= tol:\n",
    "        # TODO: cambiar por newton\n",
    "        alpha = rDotr / np.dot(AdotP, p) \n",
    "        x0 = x0 + alpha*p\n",
    "        r1 = r + alpha * AdotP\n",
    "        b = (np.dot(r1, r1))/rDotr\n",
    "        p = -r1 + b*p\n",
    "        # print(x0, f(x0), alpha, b)\n",
    "        print(k, x0, alpha, b, AdotP)\n",
    "        r = r1\n",
    "        rDotr = np.dot(r, r)\n",
    "        AdotP = A.dot(p)\n",
    "        k += 1\n",
    "    return x0\n"
   ]
  }
 ],
 "metadata": {
  "kernelspec": {
   "display_name": "Python 3.8.2 64-bit",
   "language": "python",
   "name": "python3"
  },
  "language_info": {
   "name": "python",
   "version": "3.8.2"
  },
  "orig_nbformat": 4,
  "vscode": {
   "interpreter": {
    "hash": "31f2aee4e71d21fbe5cf8b01ff0e069b9275f58929596ceb00d14d90e3e16cd6"
   }
  }
 },
 "nbformat": 4,
 "nbformat_minor": 2
}
