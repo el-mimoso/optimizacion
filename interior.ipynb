{
 "cells": [
  {
   "cell_type": "code",
   "execution_count": 269,
   "metadata": {},
   "outputs": [],
   "source": [
    "import numpy as np"
   ]
  },
  {
   "cell_type": "code",
   "execution_count": 270,
   "metadata": {},
   "outputs": [],
   "source": [
    "def f(x):\n",
    "    return x\n",
    "\n",
    "\n",
    "def grad(x):\n",
    "    return 1\n",
    "\n",
    "\n",
    "def hess(x):\n",
    "    return np.array([0])\n"
   ]
  },
  {
   "cell_type": "code",
   "execution_count": 271,
   "metadata": {},
   "outputs": [],
   "source": [
    "A = np.array([[1], [-1]])\n",
    "b = np.array([[0], [-1]])\n",
    "\n",
    "x0 = 0.8\n",
    "lam0 = np.array([[0.1], [0.1]])\n",
    "m = 2\n",
    "\n",
    "alpha = 0.2\n",
    "sigma = 0.2\n",
    "\n"
   ]
  },
  {
   "cell_type": "code",
   "execution_count": 272,
   "metadata": {},
   "outputs": [
    {
     "data": {
      "text/plain": [
       "array([[0.8],\n",
       "       [0.2]])"
      ]
     },
     "execution_count": 272,
     "metadata": {},
     "output_type": "execute_result"
    }
   ],
   "source": [
    "#calcular y\n",
    "y = A*x0-b\n",
    "y"
   ]
  },
  {
   "cell_type": "code",
   "execution_count": 273,
   "metadata": {},
   "outputs": [
    {
     "name": "stdout",
     "output_type": "stream",
     "text": [
      "[[0.1]\n",
      " [0.1]]\n",
      "[[0.8]\n",
      " [0.2]]\n"
     ]
    },
    {
     "data": {
      "text/plain": [
       "array([[0.05]])"
      ]
     },
     "execution_count": 273,
     "metadata": {},
     "output_type": "execute_result"
    }
   ],
   "source": [
    "#calcular mu\n",
    "print(lam0)\n",
    "print(y)\n",
    "mu = np.dot(y.T, lam0)/m\n",
    "mu"
   ]
  },
  {
   "cell_type": "code",
   "execution_count": 274,
   "metadata": {},
   "outputs": [
    {
     "data": {
      "text/plain": [
       "array([[0.8, 0. ],\n",
       "       [0. , 0.2]])"
      ]
     },
     "execution_count": 274,
     "metadata": {},
     "output_type": "execute_result"
    }
   ],
   "source": [
    "#poblar Y\n",
    "Y = np.zeros((m,m))\n",
    "# print(Y)\n",
    "for i in range(len(Y)):\n",
    "    Y[i,i] = y[i]\n",
    "Y\n"
   ]
  },
  {
   "cell_type": "code",
   "execution_count": 275,
   "metadata": {},
   "outputs": [
    {
     "data": {
      "text/plain": [
       "array([[0.1, 0. ],\n",
       "       [0. , 0.1]])"
      ]
     },
     "execution_count": 275,
     "metadata": {},
     "output_type": "execute_result"
    }
   ],
   "source": [
    "# poblar Lamda\n",
    "L = np.zeros((m, m))\n",
    "# print(L)\n",
    "for i in range(len(L)):\n",
    "    L[i, i] = lam0[i]\n",
    "L\n",
    "# print(np.linalg.inv(L))\n"
   ]
  },
  {
   "cell_type": "code",
   "execution_count": 276,
   "metadata": {},
   "outputs": [
    {
     "data": {
      "text/plain": [
       "array([[1.]])"
      ]
     },
     "execution_count": 276,
     "metadata": {},
     "output_type": "execute_result"
    }
   ],
   "source": [
    "#valores de rd \n",
    "rd = grad(x0) - np.dot(A.T,lam0)\n",
    "rd\n"
   ]
  },
  {
   "cell_type": "code",
   "execution_count": 277,
   "metadata": {},
   "outputs": [
    {
     "name": "stdout",
     "output_type": "stream",
     "text": [
      "[[0.7 0.1]]\n"
     ]
    }
   ],
   "source": [
    "#valores de rb\n",
    "e = np.ones((2))\n",
    "aux = np.dot(np.linalg.inv(L),e)\n",
    "rb = y.T-sigma*mu*aux\n",
    "print(rb)\n"
   ]
  },
  {
   "cell_type": "code",
   "execution_count": 278,
   "metadata": {},
   "outputs": [
    {
     "name": "stdout",
     "output_type": "stream",
     "text": [
      "[ 0 -1  1]\n",
      "[[ 0. -1.  1.]\n",
      " [ 1.  8.  0.]\n",
      " [-1.  0.  2.]]\n"
     ]
    }
   ],
   "source": [
    "\n",
    "mA = -A.T\n",
    "mA=np.append(hess(0), mA)\n",
    "print(mA)\n",
    "mB = np.array([A])\n",
    "c = np.dot(np.linalg.inv(L), Y)\n",
    "c\n",
    "\n",
    "mB = np.concatenate((A, c), axis=1)\n",
    "mB\n",
    "sistema=np.vstack((mA, mB))\n",
    "print(sistema)\n",
    "\n"
   ]
  },
  {
   "cell_type": "code",
   "execution_count": 279,
   "metadata": {},
   "outputs": [
    {
     "name": "stdout",
     "output_type": "stream",
     "text": [
      "[-1.  -0.7 -0.1]\n"
     ]
    }
   ],
   "source": [
    "# print(L.dot(e))\n",
    "igualdades = np.array([grad(x0)])\n",
    "igualdades = np.append(-igualdades,-rb)\n",
    "print(igualdades)"
   ]
  },
  {
   "cell_type": "code",
   "execution_count": 280,
   "metadata": {},
   "outputs": [
    {
     "data": {
      "text/plain": [
       "array([-1.66,  0.12, -0.88])"
      ]
     },
     "execution_count": 280,
     "metadata": {},
     "output_type": "execute_result"
    }
   ],
   "source": [
    "np.linalg.solve(sistema,igualdades)"
   ]
  }
 ],
 "metadata": {
  "kernelspec": {
   "display_name": "Python 3.8.2 64-bit",
   "language": "python",
   "name": "python3"
  },
  "language_info": {
   "codemirror_mode": {
    "name": "ipython",
    "version": 3
   },
   "file_extension": ".py",
   "mimetype": "text/x-python",
   "name": "python",
   "nbconvert_exporter": "python",
   "pygments_lexer": "ipython3",
   "version": "3.8.2 (default, Dec 21 2020, 15:06:04) \n[Clang 12.0.0 (clang-1200.0.32.29)]"
  },
  "orig_nbformat": 4,
  "vscode": {
   "interpreter": {
    "hash": "31f2aee4e71d21fbe5cf8b01ff0e069b9275f58929596ceb00d14d90e3e16cd6"
   }
  }
 },
 "nbformat": 4,
 "nbformat_minor": 2
}
