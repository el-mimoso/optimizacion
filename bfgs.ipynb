{
 "cells": [
  {
   "cell_type": "code",
   "execution_count": 152,
   "metadata": {},
   "outputs": [],
   "source": [
    "# Bibliotecas\n",
    "import numpy as np\n",
    "import math\n"
   ]
  },
  {
   "cell_type": "code",
   "execution_count": 153,
   "metadata": {},
   "outputs": [],
   "source": [
    "def f(x):\n",
    "    \"\"\"Funición a evaluar\"\"\"\n",
    "    a = (np.e**(-x[0]**2 - x[1]**2))*x[0]\n",
    "    return a\n",
    "\n",
    "\n",
    "def grad(x):\n",
    "    \"\"\" Retorna gradiente f\"\"\"\n",
    "    list1 = [1-2*x[0]**2, -2*x[0]*x[1]]\n",
    "    return np.array(list1)*math.e**(-x[0]**2 - x[1]**2)\n",
    "\n",
    "\n",
    "def hessiano(x):\n",
    "    \"\"\"Evalua la matriz Hessiana, ingresar derivadas\"\"\"\n",
    "    axax = (2*x[0]*((2*x[0]**2)-3))*math.e**(-(x[0]**2) - (x[1]**2))\n",
    "    ayay = (2*x[0]*((2*x[1]**2) - 1))*math.e**(-(x[0]**2) - (x[1]**2))\n",
    "    axay = 2*(2*x[0]**2 - 1)*x[1]*math.e**(-x[0]**2 - x[1]**2)\n",
    "    # return axay\n",
    "    return np.array([\n",
    "        [axax, axay],\n",
    "        [axay, ayay]\n",
    "    ])\n"
   ]
  },
  {
   "cell_type": "code",
   "execution_count": 164,
   "metadata": {},
   "outputs": [],
   "source": [
    "def broyden(x0, tol=1e-4):\n",
    "    k = 0\n",
    "    a = np.identity(x0.size)\n",
    "    while np.linalg.norm(grad(x0)) > tol:\n",
    "        s = np.dot(np.linalg.inv(a), -grad(x0))\n",
    "        x1 = x0 + s\n",
    "        y = grad(x1)-grad(x0)\n",
    "        x0 = x1\n",
    "        a = a + np.outer(y-np.dot(a, s), s)/np.dot(s, s)\n",
    "        print(k, x0, f(x0))\n",
    "        k = k+1\n",
    "        # print(a)\n",
    "    return x0"
   ]
  },
  {
   "cell_type": "code",
   "execution_count": 165,
   "metadata": {},
   "outputs": [
    {
     "name": "stdout",
     "output_type": "stream",
     "text": [
      "0 [-0.80326533 -0.19673467] -0.40534775865695943\n",
      "1 [-0.65349811 -0.03377323] -0.4258721693369457\n",
      "2 [-0.71858763  0.02884108] -0.42841299448769093\n",
      "3 [-7.08338687e-01 -6.21640101e-04] -0.4288804757665457\n",
      "4 [-7.07066574e-01  4.94950031e-05] -0.4288819400429922\n"
     ]
    },
    {
     "data": {
      "text/plain": [
       "array([-7.07066574e-01,  4.94950031e-05])"
      ]
     },
     "execution_count": 165,
     "metadata": {},
     "output_type": "execute_result"
    }
   ],
   "source": [
    "x0 = np.array([-0.5, -0.5])\n",
    "broyden(x0)"
   ]
  },
  {
   "cell_type": "code",
   "execution_count": 166,
   "metadata": {},
   "outputs": [],
   "source": [
    "def bfgs(x0, tol=1e-4):\n",
    "    k = 0\n",
    "    a = np.identity(x0.size)\n",
    "    while np.linalg.norm(grad(x0)) > tol:\n",
    "        s = np.dot(np.linalg.inv(a), -grad(x0))\n",
    "        x1 = x0 + s\n",
    "        y = grad(x1)-grad(x0)\n",
    "        a = a + (np.dot(y, y)/np.dot(y, s)) - \\\n",
    "            np.dot(np.dot(a, s), np.dot(a, s))/np.dot(np.dot(a, s), s)\n",
    "        x0 = x1\n",
    "        print(k, x0, f(x0))\n",
    "        k = k+1\n",
    "        # print(a)\n",
    "    return x0\n",
    "\n"
   ]
  },
  {
   "cell_type": "code",
   "execution_count": 167,
   "metadata": {},
   "outputs": [
    {
     "name": "stdout",
     "output_type": "stream",
     "text": [
      "0 [-0.80326533 -0.19673467] -0.40534775865695943\n",
      "1 [-0.7061652  -0.08672124] -0.4256678477345122\n",
      "2 [-0.70723007 -0.01235295] -0.4288164890122481\n",
      "3 [-7.04711372e-01  5.48587848e-04] -0.42887688603002594\n",
      "4 [-7.09078208e-01 -1.72475111e-04] -0.4288785991059893\n",
      "5 [-0.70673995 -0.00106358] -0.42888134187907406\n",
      "6 [-7.07460399e-01 -2.42257461e-04] -0.42888181006830467\n",
      "7 [-7.07145267e-01 -3.25814913e-04] -0.4288818956817882\n",
      "8 [-7.07171921e-01 -1.39018745e-04] -0.42888193055208856\n",
      "9 [-7.07003444e-01  3.69592010e-05] -0.42888193273435876\n",
      "10 [-7.07124739e-01  6.12529810e-05] -0.4288819405946151\n"
     ]
    },
    {
     "data": {
      "text/plain": [
       "array([-7.07124739e-01,  6.12529810e-05])"
      ]
     },
     "execution_count": 167,
     "metadata": {},
     "output_type": "execute_result"
    }
   ],
   "source": [
    "\n",
    "\n",
    "x0 = np.array([-0.5,-0.5])\n",
    "bfgs(x0)\n",
    "\n"
   ]
  }
 ],
 "metadata": {
  "kernelspec": {
   "display_name": "Python 3.8.1 32-bit",
   "language": "python",
   "name": "python3"
  },
  "language_info": {
   "codemirror_mode": {
    "name": "ipython",
    "version": 3
   },
   "file_extension": ".py",
   "mimetype": "text/x-python",
   "name": "python",
   "nbconvert_exporter": "python",
   "pygments_lexer": "ipython3",
   "version": "3.8.1"
  },
  "orig_nbformat": 4,
  "vscode": {
   "interpreter": {
    "hash": "dbd870ce3ecbb50051e36c03c034f91bd0ffd37935fd5f5a0057175bdb6e15f6"
   }
  }
 },
 "nbformat": 4,
 "nbformat_minor": 2
}
