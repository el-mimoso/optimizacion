{
 "cells": [
  {
   "cell_type": "code",
   "execution_count": 2,
   "metadata": {},
   "outputs": [],
   "source": [
    "from sympy import *\n",
    "import numpy as np\n",
    "import math"
   ]
  },
  {
   "cell_type": "code",
   "execution_count": 3,
   "metadata": {},
   "outputs": [
    {
     "name": "stdout",
     "output_type": "stream",
     "text": [
      "sin(x1)*cos(x0) + sin(x2)*cos(x1) + sin(x3)*cos(x2) + sin(x4)*cos(x3) + sin(x5)*cos(x4) + sin(x6)*cos(x5) + sin(x7)*cos(x6) + sin(x8)*cos(x7) + cos(x2)**2 + cos(x3)**2 + cos(x4)**2 + cos(x5)**2 + cos(x6)**2 + cos(x7)**2 + cos(x8)**2 + cos(x9)**2\n",
      "Matrix([[0, 0, 0, 0, 0, 0, 0, 0, 0, 0], [0, 0, 0, 0, 0, 0, 0, 0, 0, 0], [0, 0, 0, 0, 0, 0, 0, 0, 0, 0], [0, 0, 0, 0, 0, 0, 0, 0, 0, 0], [0, 0, 0, 0, 0, 0, 0, 0, 0, 0], [0, 0, 0, 0, 0, 0, 0, 0, 0, 0], [0, 0, 0, 0, 0, 0, 0, 0, 0, 0], [0, 0, 0, 0, 0, 0, 0, 0, 0, 0], [0, 0, 0, 0, 0, 0, 0, 0, 0, 0], [0, 0, 0, 0, 0, 0, 0, 0, 0, 0]])\n",
      "---- primeras ----\n",
      "-sin(x0)*sin(x1)\n",
      "-sin(x1)*sin(x2) + cos(x0)*cos(x1)\n",
      "-sin(x2)*sin(x3) - 2*sin(x2)*cos(x2) + cos(x1)*cos(x2)\n",
      "-sin(x3)*sin(x4) - 2*sin(x3)*cos(x3) + cos(x2)*cos(x3)\n",
      "-sin(x4)*sin(x5) - 2*sin(x4)*cos(x4) + cos(x3)*cos(x4)\n",
      "-sin(x5)*sin(x6) - 2*sin(x5)*cos(x5) + cos(x4)*cos(x5)\n",
      "-sin(x6)*sin(x7) - 2*sin(x6)*cos(x6) + cos(x5)*cos(x6)\n",
      "-sin(x7)*sin(x8) - 2*sin(x7)*cos(x7) + cos(x6)*cos(x7)\n",
      "-2*sin(x8)*cos(x8) + cos(x7)*cos(x8)\n",
      "-2*sin(x9)*cos(x9)\n",
      "---- segundas ----\n",
      "-sin(x1)*cos(x0)\n",
      "-(sin(x1)*cos(x0) + sin(x2)*cos(x1))\n",
      "2*sin(x2)**2 - sin(x2)*cos(x1) - sin(x3)*cos(x2) - 2*cos(x2)**2\n",
      "2*sin(x3)**2 - sin(x3)*cos(x2) - sin(x4)*cos(x3) - 2*cos(x3)**2\n",
      "2*sin(x4)**2 - sin(x4)*cos(x3) - sin(x5)*cos(x4) - 2*cos(x4)**2\n",
      "2*sin(x5)**2 - sin(x5)*cos(x4) - sin(x6)*cos(x5) - 2*cos(x5)**2\n",
      "2*sin(x6)**2 - sin(x6)*cos(x5) - sin(x7)*cos(x6) - 2*cos(x6)**2\n",
      "2*sin(x7)**2 - sin(x7)*cos(x6) - sin(x8)*cos(x7) - 2*cos(x7)**2\n",
      "2*sin(x8)**2 - sin(x8)*cos(x7) - 2*cos(x8)**2\n",
      "2*(sin(x9)**2 - cos(x9)**2)\n",
      "hessian: \n",
      "\n",
      "Matrix([[-sin(x1)*cos(x0), -sin(x0)*cos(x1), 0, 0, 0, 0, 0, 0, 0, 0], [-sin(x0)*cos(x1), -(sin(x1)*cos(x0) + sin(x2)*cos(x1)), -sin(x1)*cos(x2), 0, 0, 0, 0, 0, 0, 0], [0, -sin(x1)*cos(x2), 2*sin(x2)**2 - sin(x2)*cos(x1) - sin(x3)*cos(x2) - 2*cos(x2)**2, -sin(x2)*cos(x3), 0, 0, 0, 0, 0, 0], [0, 0, -sin(x2)*cos(x3), 2*sin(x3)**2 - sin(x3)*cos(x2) - sin(x4)*cos(x3) - 2*cos(x3)**2, -sin(x3)*cos(x4), 0, 0, 0, 0, 0], [0, 0, 0, -sin(x3)*cos(x4), 2*sin(x4)**2 - sin(x4)*cos(x3) - sin(x5)*cos(x4) - 2*cos(x4)**2, -sin(x4)*cos(x5), 0, 0, 0, 0], [0, 0, 0, 0, -sin(x4)*cos(x5), 2*sin(x5)**2 - sin(x5)*cos(x4) - sin(x6)*cos(x5) - 2*cos(x5)**2, -sin(x5)*cos(x6), 0, 0, 0], [0, 0, 0, 0, 0, -sin(x5)*cos(x6), 2*sin(x6)**2 - sin(x6)*cos(x5) - sin(x7)*cos(x6) - 2*cos(x6)**2, -sin(x6)*cos(x7), 0, 0], [0, 0, 0, 0, 0, 0, -sin(x6)*cos(x7), 2*sin(x7)**2 - sin(x7)*cos(x6) - sin(x8)*cos(x7) - 2*cos(x7)**2, -sin(x7)*cos(x8), 0], [0, 0, 0, 0, 0, 0, 0, -sin(x7)*cos(x8), 2*sin(x8)**2 - sin(x8)*cos(x7) - 2*cos(x8)**2, 0], [0, 0, 0, 0, 0, 0, 0, 0, 0, 2*(sin(x9)**2 - cos(x9)**2)]])\n"
     ]
    }
   ],
   "source": [
    "x = [0]*10\n",
    "x[0], x[1], x[2], x[3], x[4], x[5],x[6],x[7], x[8], x[9] = symbols('x0 x1 x2 x3 x4 x5 x6 x7 x8 x9')\n",
    "\n",
    "# a = x**4+(y-3)**2\n",
    "# b = 100-x**4+y**2\n",
    "\n",
    "\n",
    "\n",
    "def llenar():\n",
    "    a = 0\n",
    "    for i in range (8):\n",
    "        a += cos(x[i])*sin(x[i+1]) + cos(x[i+2])**2\n",
    "    return a\n",
    "\n",
    "f = llenar()\n",
    "print(f)\n",
    "\n",
    "dx= [0]*10\n",
    "dxx= [0]*10\n",
    "dcros = zeros(10)\n",
    "print(dcros)\n",
    "\n",
    "def derivar():\n",
    "    for i in range(10):\n",
    "        dx[i]= diff(f, x[i])\n",
    "\n",
    "derivar()\n",
    "\n",
    "def derivar2():\n",
    "    for i in range(10):\n",
    "        dxx[i]= diff(f, x[i],2)\n",
    "\n",
    "derivar2()\n",
    "\n",
    "def cruzadas():\n",
    "    for i in range(10):\n",
    "        for j in range(10):\n",
    "            if i==j:\n",
    "                dcros[i,i] = dxx[i]\n",
    "            else:\n",
    "                dcros[i, j] = diff(f, x[i], x[j])\n",
    "    \n",
    "cruzadas()\n",
    "\n",
    "print(f\"{'-'*4} primeras {'-'*4}\")\n",
    "for i in range(10):\n",
    "    print(dx[i])\n",
    "\n",
    "print(f\"{'-'*4} segundas {'-'*4}\")\n",
    "for i in range(10):\n",
    "    print(dxx[i])\n",
    "\n",
    "print('hessian: \\n')\n",
    "print(dcros)"
   ]
  },
  {
   "cell_type": "code",
   "execution_count": 4,
   "metadata": {},
   "outputs": [
    {
     "ename": "NameError",
     "evalue": "name 'dy' is not defined",
     "output_type": "error",
     "traceback": [
      "\u001b[0;31m---------------------------------------------------------------------------\u001b[0m",
      "\u001b[0;31mNameError\u001b[0m                                 Traceback (most recent call last)",
      "Cell \u001b[0;32mIn[4], line 2\u001b[0m\n\u001b[1;32m      1\u001b[0m \u001b[39m# ∇f gradiente\u001b[39;00m\n\u001b[0;32m----> 2\u001b[0m gradiente \u001b[39m=\u001b[39m [dx, dy, dz]\n\u001b[1;32m      3\u001b[0m \u001b[39mprint\u001b[39m(gradiente)\n",
      "\u001b[0;31mNameError\u001b[0m: name 'dy' is not defined"
     ]
    }
   ],
   "source": [
    "# ∇f gradiente\n",
    "gradiente = [dx, dy, dz]\n",
    "print(gradiente)"
   ]
  },
  {
   "cell_type": "code",
   "execution_count": null,
   "metadata": {},
   "outputs": [
    {
     "ename": "ValueError",
     "evalue": "too many values to unpack (expected 2)",
     "output_type": "error",
     "traceback": [
      "\u001b[0;31m---------------------------------------------------------------------------\u001b[0m",
      "\u001b[0;31mValueError\u001b[0m                                Traceback (most recent call last)",
      "Cell \u001b[0;32mIn[62], line 2\u001b[0m\n\u001b[1;32m      1\u001b[0m \u001b[39m# ∇^2f Hessiano\u001b[39;00m\n\u001b[0;32m----> 2\u001b[0m ddx \u001b[39m=\u001b[39m diff(f,x, \u001b[39m2\u001b[39;49m)\n\u001b[1;32m      3\u001b[0m ddy \u001b[39m=\u001b[39m diff(f, y, \u001b[39m2\u001b[39m)\n\u001b[1;32m      4\u001b[0m dxy \u001b[39m=\u001b[39m diff(f, x ,y)\n",
      "File \u001b[0;32m~/anaconda3/lib/python3.10/site-packages/sympy/core/function.py:2490\u001b[0m, in \u001b[0;36mdiff\u001b[0;34m(f, *symbols, **kwargs)\u001b[0m\n\u001b[1;32m   2426\u001b[0m \u001b[39m\"\"\"\u001b[39;00m\n\u001b[1;32m   2427\u001b[0m \u001b[39mDifferentiate f with respect to symbols.\u001b[39;00m\n\u001b[1;32m   2428\u001b[0m \n\u001b[0;32m   (...)\u001b[0m\n\u001b[1;32m   2487\u001b[0m \n\u001b[1;32m   2488\u001b[0m \u001b[39m\"\"\"\u001b[39;00m\n\u001b[1;32m   2489\u001b[0m \u001b[39mif\u001b[39;00m \u001b[39mhasattr\u001b[39m(f, \u001b[39m'\u001b[39m\u001b[39mdiff\u001b[39m\u001b[39m'\u001b[39m):\n\u001b[0;32m-> 2490\u001b[0m     \u001b[39mreturn\u001b[39;00m f\u001b[39m.\u001b[39;49mdiff(\u001b[39m*\u001b[39;49msymbols, \u001b[39m*\u001b[39;49m\u001b[39m*\u001b[39;49mkwargs)\n\u001b[1;32m   2491\u001b[0m kwargs\u001b[39m.\u001b[39msetdefault(\u001b[39m'\u001b[39m\u001b[39mevaluate\u001b[39m\u001b[39m'\u001b[39m, \u001b[39mTrue\u001b[39;00m)\n\u001b[1;32m   2492\u001b[0m \u001b[39mreturn\u001b[39;00m _derivative_dispatch(f, \u001b[39m*\u001b[39msymbols, \u001b[39m*\u001b[39m\u001b[39m*\u001b[39mkwargs)\n",
      "File \u001b[0;32m~/anaconda3/lib/python3.10/site-packages/sympy/core/expr.py:3555\u001b[0m, in \u001b[0;36mExpr.diff\u001b[0;34m(self, *symbols, **assumptions)\u001b[0m\n\u001b[1;32m   3553\u001b[0m \u001b[39mdef\u001b[39;00m \u001b[39mdiff\u001b[39m(\u001b[39mself\u001b[39m, \u001b[39m*\u001b[39msymbols, \u001b[39m*\u001b[39m\u001b[39m*\u001b[39massumptions):\n\u001b[1;32m   3554\u001b[0m     assumptions\u001b[39m.\u001b[39msetdefault(\u001b[39m\"\u001b[39m\u001b[39mevaluate\u001b[39m\u001b[39m\"\u001b[39m, \u001b[39mTrue\u001b[39;00m)\n\u001b[0;32m-> 3555\u001b[0m     \u001b[39mreturn\u001b[39;00m _derivative_dispatch(\u001b[39mself\u001b[39;49m, \u001b[39m*\u001b[39;49msymbols, \u001b[39m*\u001b[39;49m\u001b[39m*\u001b[39;49massumptions)\n",
      "File \u001b[0;32m~/anaconda3/lib/python3.10/site-packages/sympy/core/function.py:1914\u001b[0m, in \u001b[0;36m_derivative_dispatch\u001b[0;34m(expr, *variables, **kwargs)\u001b[0m\n\u001b[1;32m   1912\u001b[0m     \u001b[39mfrom\u001b[39;00m \u001b[39msympy\u001b[39;00m\u001b[39m.\u001b[39;00m\u001b[39mtensor\u001b[39;00m\u001b[39m.\u001b[39;00m\u001b[39marray\u001b[39;00m\u001b[39m.\u001b[39;00m\u001b[39marray_derivatives\u001b[39;00m \u001b[39mimport\u001b[39;00m ArrayDerivative\n\u001b[1;32m   1913\u001b[0m     \u001b[39mreturn\u001b[39;00m ArrayDerivative(expr, \u001b[39m*\u001b[39mvariables, \u001b[39m*\u001b[39m\u001b[39m*\u001b[39mkwargs)\n\u001b[0;32m-> 1914\u001b[0m \u001b[39mreturn\u001b[39;00m Derivative(expr, \u001b[39m*\u001b[39;49mvariables, \u001b[39m*\u001b[39;49m\u001b[39m*\u001b[39;49mkwargs)\n",
      "File \u001b[0;32m~/anaconda3/lib/python3.10/site-packages/sympy/core/function.py:1292\u001b[0m, in \u001b[0;36mDerivative.__new__\u001b[0;34m(cls, expr, *variables, **kwargs)\u001b[0m\n\u001b[1;32m   1290\u001b[0m         v \u001b[39m=\u001b[39m Array(v)\n\u001b[1;32m   1291\u001b[0m \u001b[39melse\u001b[39;00m:\n\u001b[0;32m-> 1292\u001b[0m     v, count \u001b[39m=\u001b[39m v\n\u001b[1;32m   1293\u001b[0m \u001b[39mif\u001b[39;00m count \u001b[39m==\u001b[39m \u001b[39m0\u001b[39m:\n\u001b[1;32m   1294\u001b[0m     \u001b[39mcontinue\u001b[39;00m\n",
      "\u001b[0;31mValueError\u001b[0m: too many values to unpack (expected 2)"
     ]
    }
   ],
   "source": [
    "# ∇^2f Hessiano\n",
    "ddx = diff(f,x, 2)\n",
    "ddy = diff(f, y, 2)\n",
    "dxy = diff(f, x ,y)\n",
    "ddz = diff(f, z, 2)\n",
    "\n",
    "print(ddx)\n",
    "print(ddy)\n",
    "print(dxy)\n",
    "print(ddz)\n",
    "\n",
    "# h=[[ddx,dxy],\n",
    "# [dxy, ddy]\n",
    "# ]\n",
    "\n",
    "# print(h)"
   ]
  }
 ],
 "metadata": {
  "kernelspec": {
   "display_name": "baile",
   "language": "python",
   "name": "python3"
  },
  "language_info": {
   "codemirror_mode": {
    "name": "ipython",
    "version": 3
   },
   "file_extension": ".py",
   "mimetype": "text/x-python",
   "name": "python",
   "nbconvert_exporter": "python",
   "pygments_lexer": "ipython3",
   "version": "3.10.9"
  },
  "orig_nbformat": 4,
  "vscode": {
   "interpreter": {
    "hash": "62ed03cf0ae78fa95a71efbccdd357a71f03a6d7f643ed6449667ba12cd077d7"
   }
  }
 },
 "nbformat": 4,
 "nbformat_minor": 2
}
