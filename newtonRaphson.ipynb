{
 "cells": [
  {
   "cell_type": "code",
   "execution_count": 1,
   "metadata": {},
   "outputs": [],
   "source": [
    "import numpy as np"
   ]
  },
  {
   "cell_type": "code",
   "execution_count": 3,
   "metadata": {},
   "outputs": [],
   "source": [
    "\n",
    "def grad(x):\n",
    "    return np.array([\n",
    "        4*x[0] - 2*x[-1]*x[0],\n",
    "        6*x[1] - 2*x[-1]*x[1],\n",
    "        x[0]**2 + x[1]**2 - 3\n",
    "    ])\n",
    "\n",
    "\n",
    "def jaco(x):\n",
    "    return np.array([\n",
    "        [4-2*x[-1], 0, -2*x[0]],\n",
    "        [0, 6-2*x[-1], -2*x[1]],\n",
    "        [2*x[0], 2*x[1], 0]\n",
    "    ])\n",
    "\n"
   ]
  },
  {
   "cell_type": "code",
   "execution_count": 38,
   "metadata": {},
   "outputs": [],
   "source": [
    "def newtonRaphson(xini):\n",
    "    k = 0\n",
    "    x = xini.copy()\n",
    "    xk = np.zeros(x.shape)\n",
    "    dif = np.allclose(xk,x)\n",
    "    while not (dif):\n",
    "        g = grad(x)\n",
    "        j = jaco(x)\n",
    "        xk = x - np.dot(np.linalg.inv(j), g)\n",
    "        k = k+1\n",
    "        print(k,xk)\n",
    "        dif = np.allclose(xk, x)\n",
    "        x = xk\n",
    "    return x\n"
   ]
  },
  {
   "cell_type": "code",
   "execution_count": 42,
   "metadata": {},
   "outputs": [
    {
     "name": "stdout",
     "output_type": "stream",
     "text": [
      "0 [1.66666667 0.83333333 2.66666667]\n",
      "1 [ 3.88333333 -3.88333333  1.11333333]\n",
      "2 [ 2.90455923 -1.3650402   1.77652025]\n",
      "3 [ 2.20068639 -0.18891427  1.94584331]\n",
      "4 [ 1.78937981 -0.00789144  1.98987816]\n",
      "5 [ 1.73298624e+00 -7.65833902e-05  1.99968100e+00]\n",
      "6 [ 1.73205106e+00 -2.44089082e-08  1.99999983e+00]\n",
      "7 [ 1.73205081e+00 -4.20177933e-15  2.00000000e+00]\n",
      "8 [ 1.73205081e+00 -1.07285083e-28  2.00000000e+00]\n",
      "[ 1.732051 -0.        2.      ]\n",
      "[ 1.73205081e+00 -1.07285083e-28  2.00000000e+00]\n",
      "6.000000000000001\n"
     ]
    }
   ],
   "source": [
    "xini = np.array([1,1,1])\n",
    "root = newtonRaphson(xini)\n",
    "print(np.around(root, 6)) \n",
    "print(root)\n",
    "\n",
    "print(2*root[0]**2 + 3*root[1]**2)\n",
    "print(2*root[1]**2 + 3*root[0]**2)\n"
   ]
  }
 ],
 "metadata": {
  "kernelspec": {
   "display_name": "Python 3.9.12 ('base')",
   "language": "python",
   "name": "python3"
  },
  "language_info": {
   "codemirror_mode": {
    "name": "ipython",
    "version": 3
   },
   "file_extension": ".py",
   "mimetype": "text/x-python",
   "name": "python",
   "nbconvert_exporter": "python",
   "pygments_lexer": "ipython3",
   "version": "3.9.12"
  },
  "orig_nbformat": 4,
  "vscode": {
   "interpreter": {
    "hash": "15962afdcf4324554b88c19b563e01ce8b9b967cabc53b6a6f7e8c4c4f6af602"
   }
  }
 },
 "nbformat": 4,
 "nbformat_minor": 2
}
