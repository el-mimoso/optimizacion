{
 "cells": [
  {
   "cell_type": "code",
   "execution_count": 172,
   "metadata": {},
   "outputs": [],
   "source": [
    "import numpy as np"
   ]
  },
  {
   "cell_type": "code",
   "execution_count": 173,
   "metadata": {},
   "outputs": [
    {
     "name": "stdout",
     "output_type": "stream",
     "text": [
      "[1.66666667 0.83333333 2.66666667]\n"
     ]
    },
    {
     "data": {
      "text/plain": [
       "array([1.1796564 , 1.52402054, 1.51198759])"
      ]
     },
     "execution_count": 173,
     "metadata": {},
     "output_type": "execute_result"
    }
   ],
   "source": [
    "x = np.array([1,1])\n",
    "lam = 1\n",
    "g = np.array([2,4,-1])\n",
    "\n",
    "\n",
    "\n",
    "uno = np.array([1,1,1])\n",
    "J = np.array([\n",
    "    [4-2*lam, 0, -2*x[0]],\n",
    "    [0, 6-2*lam, -2*x[1]],\n",
    "    [2*x[0], 2*x[1], 0]\n",
    "])\n",
    "\n",
    "def jaco (x, lam):\n",
    "    return np.array([\n",
    "    [4-2*lam, 0, -2*x[0]],\n",
    "    [0, 6-2*lam, -2*x[1]],\n",
    "    [2*x[0], 2*x[1], 0]\n",
    "])\n",
    "\n",
    "def grad (x, lam):\n",
    "    return np.array([\n",
    "        4*x[0] - 2*lam*x[0],\n",
    "        6*x[1] - 2*lam*x[1],\n",
    "        x[0]**2 + x[1]**2 -3\n",
    "    ])\n",
    "\n",
    "\n",
    "\n",
    "xalgo = uno - np.dot(np.linalg.inv(jaco(x,1)),grad(x, lam))\n",
    "print(xalgo)\n",
    "\n",
    "\n",
    "\n",
    "xnext = xalgo - np.dot(np.linalg.inv(jaco(x=[xalgo[0], xalgo[1]],lam = 3.63137769)),grad(x=[xalgo[0], xalgo[1]], lam = 3.63137769))\n",
    "xnext"
   ]
  },
  {
   "cell_type": "code",
   "execution_count": 174,
   "metadata": {},
   "outputs": [],
   "source": [
    "def f(x):\n",
    "    # 1\n",
    "    # return x[0]**2 + x[1]**2 -2\n",
    "    # 2\n",
    "    # return 3*x[0] + x[1] - 3\n",
    "    # 3\n",
    "    return x[0]**2 + x[1]**2 - 3\n",
    "\n",
    "\n",
    "def grad(x):\n",
    "    return np.array([\n",
    "        # 1 + 2*x[-1]*x[0],\n",
    "        # 1 + 2*x[-1]*x[1],\n",
    "        # x[0]**2 + x[1]**2 - 2\n",
    "        4*x[0] - 3*x[-1],\n",
    "        6*x[1] - x[-1],\n",
    "        3*x[0] + x[1] - 3\n",
    "\n",
    "    ])\n",
    "\n",
    "\n",
    "def jaco(x):\n",
    "    return np.array([\n",
    "        # [2*x[-1], 0, 2*x[0]],\n",
    "        # [0, 2*x[-1], 2*x[1]],\n",
    "        # [2*x[0], 2*x[1], 0]\n",
    "        [4, 0, -3],\n",
    "        [0, 6, -1],\n",
    "        [3, 1, 0]\n",
    "    ])\n"
   ]
  },
  {
   "cell_type": "code",
   "execution_count": 175,
   "metadata": {},
   "outputs": [],
   "source": [
    "def newtonRaphson(xini):\n",
    "    \"\"\"Recibe un vector con los parametros iniciales de x y en su ultima posicion lamda\n",
    "    regresa un vector con las raices de x y lamda\n",
    "    \"\"\"\n",
    "    k = 0\n",
    "    x = xini.copy()\n",
    "    xk = np.zeros(x.shape)\n",
    "    dif = np.allclose(xk,x)\n",
    "    print(k, x, f(x))\n",
    "    while not (dif):\n",
    "        g = grad(x)\n",
    "        j = jaco(x)\n",
    "        xk = x - np.dot(np.linalg.inv(j), g)\n",
    "        k = k+1\n",
    "        # s = np.linalg.solve(j,-g)\n",
    "        # xk = x + s\n",
    "        print(k,np.around(xk,6), np.around(f(xk),6))\n",
    "        dif = np.allclose(xk, x)\n",
    "        x = xk\n",
    "    return x\n"
   ]
  },
  {
   "cell_type": "code",
   "execution_count": 179,
   "metadata": {},
   "outputs": [
    {
     "name": "stdout",
     "output_type": "stream",
     "text": [
      "0 [3 2 1] 10\n",
      "1 [0.93103448 0.20689655 1.24137931] -2.090369\n",
      "2 [0.93103448 0.20689655 1.24137931] -2.090369\n",
      "[0.931034 0.206897 1.241379]\n"
     ]
    },
    {
     "data": {
      "text/plain": [
       "-2.0903686087990487"
      ]
     },
     "execution_count": 179,
     "metadata": {},
     "output_type": "execute_result"
    }
   ],
   "source": [
    "import time \n",
    "xini = np.array([3,2,1])\n",
    "\n",
    "start = time.time()\n",
    "root = newtonRaphson(xini)\n",
    "end = time.time()\n",
    "print(np.around(root, 6)) \n",
    "# print(root)\n",
    "f(root)\n"
   ]
  }
 ],
 "metadata": {
  "kernelspec": {
   "display_name": "Python 3.9.12 ('base')",
   "language": "python",
   "name": "python3"
  },
  "language_info": {
   "codemirror_mode": {
    "name": "ipython",
    "version": 3
   },
   "file_extension": ".py",
   "mimetype": "text/x-python",
   "name": "python",
   "nbconvert_exporter": "python",
   "pygments_lexer": "ipython3",
   "version": "3.9.12"
  },
  "orig_nbformat": 4,
  "vscode": {
   "interpreter": {
    "hash": "15962afdcf4324554b88c19b563e01ce8b9b967cabc53b6a6f7e8c4c4f6af602"
   }
  }
 },
 "nbformat": 4,
 "nbformat_minor": 2
}
